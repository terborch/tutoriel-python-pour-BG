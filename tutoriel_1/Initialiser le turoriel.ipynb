{
 "cells": [
  {
   "cell_type": "markdown",
   "metadata": {},
   "source": [
    "# Script to initialize the tutorial\n",
    "\n",
    "nils ter-borch 8.06.2021\n",
    "\n",
    "python 3 anaconda base - updated 05.2021"
   ]
  },
  {
   "cell_type": "code",
   "execution_count": 1,
   "metadata": {},
   "outputs": [],
   "source": [
    "import os\n",
    "# path to the folders\n",
    "dir_path = os.getcwd()\n",
    "# path to the folder of files that should be moved\n",
    "origin_folder = dir_path + r'\\Dossier IR'\n",
    "# path to the folder of index files \n",
    "index_folder = dir_path + r'\\Dossier jpg sélectionné'\n",
    "# path to the folder of destination\n",
    "destination_folder = dir_path + r'\\Dossier trillé'"
   ]
  },
  {
   "cell_type": "code",
   "execution_count": 2,
   "metadata": {},
   "outputs": [],
   "source": [
    "# Make directories (folders)\n",
    "import os\n",
    "os.mkdir(origin_folder)\n",
    "os.mkdir(index_folder)\n",
    "os.mkdir(destination_folder)"
   ]
  },
  {
   "cell_type": "code",
   "execution_count": 3,
   "metadata": {},
   "outputs": [],
   "source": [
    "# Make dummy files\n",
    "for i in range(100):\n",
    "    f = 'thermography_{}'.format(i+247)\n",
    "    file = r'{}\\{}.is2'.format(origin_folder, f)\n",
    "    open(file, 'w')\n",
    "    \n",
    "    f = 'thermography_{}'.format(i//4 + 247)\n",
    "    file = r'{}\\{}.jpg'.format(index_folder, f)\n",
    "    open(file, 'w')"
   ]
  }
 ],
 "metadata": {
  "kernelspec": {
   "display_name": "Python 3",
   "language": "python",
   "name": "python3"
  },
  "language_info": {
   "codemirror_mode": {
    "name": "ipython",
    "version": 3
   },
   "file_extension": ".py",
   "mimetype": "text/x-python",
   "name": "python",
   "nbconvert_exporter": "python",
   "pygments_lexer": "ipython3",
   "version": "3.8.5"
  }
 },
 "nbformat": 4,
 "nbformat_minor": 4
}
