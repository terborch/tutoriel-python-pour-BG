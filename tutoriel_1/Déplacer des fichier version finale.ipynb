{
 "cells": [
  {
   "cell_type": "markdown",
   "metadata": {},
   "source": [
    "# Script to move/copy files from one folder to another\n",
    "nils ter-borch 12.05.2021"
   ]
  },
  {
   "cell_type": "markdown",
   "metadata": {},
   "source": [
    "## Example - move files\n",
    "**Source https://datatofish.com/move-file-python/**\n",
    "\n",
    "*You may use the following template to move a file in Python:*\n",
    "\n",
    "```python\n",
    "import shutil\n",
    "\n",
    "original = r'original path where the file is currently stored\\file name.file extension'\n",
    "target = r'target path where the file will be moved\\file name.file extension'\n",
    "\n",
    "shutil.move(original,target)\n",
    "```\n",
    "*Alternatively, you can use this template to move a directory:*\n",
    "```python\n",
    "import shutil\n",
    "\n",
    "original = r'original path where the directory is currently stored\\directory name'\n",
    "target = r'target path where the directory will be moved\\directory name'\n",
    "\n",
    "shutil.move(original,target)\n",
    "```"
   ]
  },
  {
   "cell_type": "markdown",
   "metadata": {},
   "source": [
    "## Copy files\n",
    "\n",
    "To copy files instead of moving them, we could use `shutil.copy()`\n",
    "\n",
    "**Source https://www.geeksforgeeks.org/python-shutil-copy-method/#:~:text=copy()%20method%20in%20Python,modification%20times%20is%20not%20preserved**\n",
    "\n",
    "`shutil.copy()` method in Python is used to copy the content of source file to destination file or directory. It also preserves the file’s permission mode but other metadata of the file like the file’s creation and modification times is not preserved.\n",
    "Source must represent a file but destination can be a file or a directory. If the destination is a directory then the file will be copied into destination using the base filename from source. Also, destination must be writable. If destination is a file and already exists then it will be replaced with the source file otherwise a new file will be created."
   ]
  },
  {
   "cell_type": "markdown",
   "metadata": {},
   "source": [
    "## Example - get all file names\n",
    "\n",
    "**Source https://stackoverflow.com/questions/3207219/how-do-i-list-all-files-of-a-directory**\n",
    "\n",
    "*If you want just files, you could filter this down using os.path:*\n",
    "\n",
    "```python\n",
    "\n",
    "from os import listdir\n",
    "from os.path import isfile, join\n",
    "\n",
    "onlyfiles = [f for f in listdir(mypath) if isfile(join(mypath, f))]\n",
    "```\n",
    "\n"
   ]
  },
  {
   "cell_type": "code",
   "execution_count": 1,
   "metadata": {},
   "outputs": [],
   "source": [
    "# import the necessary packages (shutil) and methods (listdir, isfile and join) for this program\n",
    "import shutil\n",
    "\n",
    "from os import listdir\n",
    "from os.path import isfile, join"
   ]
  },
  {
   "cell_type": "code",
   "execution_count": 2,
   "metadata": {},
   "outputs": [],
   "source": [
    "# path to the folders\n",
    "dir_path = r'C:\\Users\\tech\\OneDrive - BG Ingénieurs Conseils\\Bureau\\Python\\tutoriel-python-pour-BG\\tutoriel_1'\n",
    "# path to the folder of files that should be moved\n",
    "origin_folder = dir_path + r'\\Dossier IR'\n",
    "# path to the folder of index files \n",
    "index_folder = dir_path + r'\\Dossier jpg sélectionné'\n",
    "# path to the folder of destination\n",
    "destination_folder = dir_path + r'\\Dossier trillé'"
   ]
  },
  {
   "cell_type": "code",
   "execution_count": 3,
   "metadata": {},
   "outputs": [
    {
     "data": {
      "text/plain": [
       "['file_1', 'file_2', 'file_6', 'file_7']"
      ]
     },
     "execution_count": 3,
     "metadata": {},
     "output_type": "execute_result"
    }
   ],
   "source": [
    "# get all file names in a directory\n",
    "file_names = [f for f in listdir(index_folder) if isfile(join(index_folder, f))]\n",
    "# drop the extension (anything after .)\n",
    "file_names = [f.split('.')[0] for f in file_names]\n",
    "# display the first 5\n",
    "file_names"
   ]
  },
  {
   "cell_type": "code",
   "execution_count": 4,
   "metadata": {},
   "outputs": [],
   "source": [
    "# copy every file in file_name from origin_folder to destination_folder\n",
    "for f in file_names:\n",
    "    origin_path = r'{}\\{}.is2'.format(origin_folder, f)\n",
    "    destination_path = r'{}\\{}.is2'.format(destination_folder, f)\n",
    "\n",
    "    shutil.copy(origin_path, destination_path)"
   ]
  }
 ],
 "metadata": {
  "kernelspec": {
   "display_name": "Python 3",
   "language": "python",
   "name": "python3"
  },
  "language_info": {
   "codemirror_mode": {
    "name": "ipython",
    "version": 3
   },
   "file_extension": ".py",
   "mimetype": "text/x-python",
   "name": "python",
   "nbconvert_exporter": "python",
   "pygments_lexer": "ipython3",
   "version": "3.8.5"
  }
 },
 "nbformat": 4,
 "nbformat_minor": 4
}
