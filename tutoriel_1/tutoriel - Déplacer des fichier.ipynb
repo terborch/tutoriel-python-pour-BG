{
 "cells": [
  {
   "cell_type": "markdown",
   "metadata": {},
   "source": [
    "# Script to move or copy files from one folder to another\n",
    "nils ter-borch 8.06.2021\n",
    "\n",
    "_python 3 anaconda base - updated 05.2021_"
   ]
  },
  {
   "cell_type": "markdown",
   "metadata": {},
   "source": [
    "# 0. Getting started"
   ]
  },
  {
   "cell_type": "markdown",
   "metadata": {},
   "source": [
    "## 0.0 What we want to do\n",
    "1. Read the name of all the files in a folder\n",
    "2. Change the extension of the file names\n",
    "3. Copy or move some files from one folder to another  "
   ]
  },
  {
   "cell_type": "markdown",
   "metadata": {},
   "source": [
    "## 0.1 Some basic python knowledge"
   ]
  },
  {
   "cell_type": "code",
   "execution_count": null,
   "metadata": {},
   "outputs": [],
   "source": [
    "# This is a comment, its blue and  marked by a #. It doesnt do anything, but helps you understand your code!"
   ]
  },
  {
   "cell_type": "code",
   "execution_count": null,
   "metadata": {},
   "outputs": [],
   "source": [
    "# String\n",
    "'This is written text, its called a string'"
   ]
  },
  {
   "cell_type": "code",
   "execution_count": null,
   "metadata": {},
   "outputs": [],
   "source": [
    "# Variable\n",
    "a = 'some text'\n",
    "b = 42\n",
    "my_explicit_variable = b + 10"
   ]
  },
  {
   "cell_type": "code",
   "execution_count": null,
   "metadata": {},
   "outputs": [],
   "source": [
    "# In jupyter notebook this is how we display a variable\n",
    "my_explicit_variable"
   ]
  },
  {
   "cell_type": "code",
   "execution_count": null,
   "metadata": {},
   "outputs": [],
   "source": [
    "# List\n",
    "my_list = [a, b, my_explicit_variable]\n",
    "my_list"
   ]
  },
  {
   "cell_type": "markdown",
   "metadata": {},
   "source": [
    "## 0.2 How to move files ?\n",
    "\n",
    "> Google \"move files python\"\n",
    "\n",
    "*You may use the following template to move a file in Python:*\n",
    "\n",
    "```python\n",
    "import shutil\n",
    "\n",
    "original = r'original path where the file is currently stored\\file name.file extension'\n",
    "target = r'target path where the file will be moved\\file name.file extension'\n",
    "\n",
    "shutil.move(original,target)\n",
    "```\n",
    "*Alternatively, you can use this template to move a directory:*\n",
    "```python\n",
    "import shutil\n",
    "\n",
    "original = r'original path where the directory is currently stored\\directory name'\n",
    "target = r'target path where the directory will be moved\\directory name'\n",
    "\n",
    "shutil.move(original,target)\n",
    "```\n",
    "\n",
    "**Source https://datatofish.com/move-file-python/**"
   ]
  },
  {
   "cell_type": "markdown",
   "metadata": {},
   "source": [
    "## 0.3 How to copy files ?\n",
    "\n",
    "> Google \"copy files python shutil\"\n",
    "\n",
    "`shutil.copy()` method in Python is used to copy the content of source file to destination file or directory. It also preserves the file’s permission mode but other metadata of the file like the file’s creation and modification times is not preserved.\n",
    "Source must represent a file but destination can be a file or a directory. If the destination is a directory then the file will be copied into destination using the base filename from source. Also, destination must be writable. If destination is a file and already exists then it will be replaced with the source file otherwise a new file will be created.\n",
    "\n",
    "**Source https://www.geeksforgeeks.org/python-shutil-copy-method/#:~:text=copy()%20method%20in%20Python,modification%20times%20is%20not%20preserved**"
   ]
  },
  {
   "cell_type": "markdown",
   "metadata": {},
   "source": [
    "## 0.4 How to get all file names ?\n",
    "\n",
    "> Google \"get all file names in a folder python\"\n",
    "\n",
    "*If you want just files, you could filter this down using os.path:*\n",
    "\n",
    "```python\n",
    "\n",
    "from os import listdir\n",
    "from os.path import isfile, join\n",
    "\n",
    "onlyfiles = [f for f in listdir(mypath) if isfile(join(mypath, f))]\n",
    "```\n",
    "\n",
    "**Source https://stackoverflow.com/questions/3207219/how-do-i-list-all-files-of-a-directory**"
   ]
  },
  {
   "cell_type": "markdown",
   "metadata": {},
   "source": [
    "## 0.5 Do i have these packages ?\n",
    "simply try importing them"
   ]
  },
  {
   "cell_type": "code",
   "execution_count": null,
   "metadata": {},
   "outputs": [],
   "source": [
    "import os\n",
    "import shutil"
   ]
  },
  {
   "cell_type": "code",
   "execution_count": null,
   "metadata": {},
   "outputs": [],
   "source": [
    "import package_i_dont_have"
   ]
  },
  {
   "cell_type": "markdown",
   "metadata": {},
   "source": [
    "## 0.6 In what directory am I now ?"
   ]
  },
  {
   "cell_type": "code",
   "execution_count": null,
   "metadata": {},
   "outputs": [],
   "source": [
    "os.getcwd()"
   ]
  },
  {
   "cell_type": "markdown",
   "metadata": {},
   "source": [
    "# 1. Read the name of all the files in a folder"
   ]
  },
  {
   "cell_type": "code",
   "execution_count": null,
   "metadata": {},
   "outputs": [],
   "source": [
    "# path to the current directory\n",
    "dir_path = <...>\n",
    "dir_path"
   ]
  },
  {
   "cell_type": "code",
   "execution_count": null,
   "metadata": {},
   "outputs": [],
   "source": [
    "# path to the folder of files that should be moved\n",
    "index_folder = <...> + <...>\n",
    "index_folder"
   ]
  },
  {
   "cell_type": "code",
   "execution_count": null,
   "metadata": {},
   "outputs": [],
   "source": [
    "# path to the folder of indefiles that should be moved\n",
    "origin_folder = <...> + <...>\n",
    "origin_folder"
   ]
  },
  {
   "cell_type": "code",
   "execution_count": null,
   "metadata": {},
   "outputs": [],
   "source": [
    "# path to the folder of destination\n",
    "destination_folder = <...> + <...>\n",
    "destination_folder"
   ]
  },
  {
   "cell_type": "code",
   "execution_count": null,
   "metadata": {},
   "outputs": [],
   "source": [
    "# get all file names in a directory\n",
    "from os import listdir\n",
    "from os.path import isfile, join\n",
    "\n",
    "file_names = [f for f in listdir(<...>) if isfile(join(<...>, f))]\n",
    "file_names"
   ]
  },
  {
   "cell_type": "markdown",
   "metadata": {},
   "source": [
    "# 2. Change the extension of the file names\n",
    "\n",
    "> Google \"python change string\"\n",
    "\n",
    "\n",
    "```python\n",
    "a = \"Hello, World!\"\n",
    "print(a.replace(\"H\", \"J\"))\n",
    "```\n",
    "\n",
    "--> \"Jello, World!\"\n",
    "\n",
    "**https://www.w3schools.com/python/python_strings_modify.asp**"
   ]
  },
  {
   "cell_type": "code",
   "execution_count": null,
   "metadata": {},
   "outputs": [],
   "source": [
    "# display the first\n",
    "file_names[0]"
   ]
  },
  {
   "cell_type": "code",
   "execution_count": null,
   "metadata": {},
   "outputs": [],
   "source": [
    "# display the last \n",
    "file_names[-1]"
   ]
  },
  {
   "cell_type": "code",
   "execution_count": null,
   "metadata": {},
   "outputs": [],
   "source": [
    "# display the first 5\n",
    "file_names[:5]"
   ]
  },
  {
   "cell_type": "code",
   "execution_count": null,
   "metadata": {},
   "outputs": [],
   "source": [
    "# replace the extension .jpg by .is2\n",
    "file_names[0].<...>"
   ]
  },
  {
   "cell_type": "markdown",
   "metadata": {},
   "source": [
    "# 3. Copy or move some files from one folder to another"
   ]
  },
  {
   "cell_type": "code",
   "execution_count": null,
   "metadata": {},
   "outputs": [],
   "source": [
    "# combining strings\n",
    "a = 41\n",
    "b = 1\n",
    "'a and b is {}'.format(a + b)"
   ]
  },
  {
   "cell_type": "code",
   "execution_count": null,
   "metadata": {},
   "outputs": [],
   "source": [
    "c = 'the answer to life the universe and everything'\n",
    "'a and b is {} which is {}'.format(a + b, c)"
   ]
  },
  {
   "cell_type": "code",
   "execution_count": null,
   "metadata": {},
   "outputs": [],
   "source": [
    "# path to the first file that should be moved\n",
    "f = <...>\n",
    "origin_path = r'{}\\{}'.format(<...>, f)\n",
    "origin_path"
   ]
  },
  {
   "cell_type": "code",
   "execution_count": null,
   "metadata": {},
   "outputs": [],
   "source": [
    "# path to where we want to move the first file\n",
    "destination_path = r'{}\\{}'.format(<...>, f)\n",
    "destination_path"
   ]
  },
  {
   "cell_type": "code",
   "execution_count": null,
   "metadata": {},
   "outputs": [],
   "source": [
    "# Copy the first file\n",
    "shutil.copy(<...>, <...>)"
   ]
  },
  {
   "cell_type": "code",
   "execution_count": null,
   "metadata": {},
   "outputs": [],
   "source": [
    "# A \"for loop\"\n",
    "for i in [1, 2, 3]:\n",
    "    print(i)"
   ]
  },
  {
   "cell_type": "code",
   "execution_count": null,
   "metadata": {},
   "outputs": [],
   "source": [
    "# A \"inline for loop\"\n",
    "my_list = [i for i in [1, 2, 3]]\n",
    "my_list"
   ]
  },
  {
   "cell_type": "code",
   "execution_count": null,
   "metadata": {},
   "outputs": [],
   "source": [
    "# Print the first 5 files in the list of files\n",
    "for i in file_names[:5]:\n",
    "    print(i)"
   ]
  },
  {
   "cell_type": "code",
   "execution_count": null,
   "metadata": {},
   "outputs": [],
   "source": [
    "# Putting it all together\n",
    "# for every file name i in fil_names\n",
    "for i in file_names:\n",
    "    # 1. Select the i-th .jpg file name and rename the extension to .is2\n",
    "    f = <...>\n",
    "    \n",
    "    # 2. Make the full origin and destination paths with f \n",
    "    origin_path = r'{}\\{}'.format(<...>, f)\n",
    "    destination_path = r'{}\\{}'.format(<...>, f)\n",
    "    \n",
    "    # 3. Copy that file over\n",
    "    shutil.copy(<...>, <...>)"
   ]
  }
 ],
 "metadata": {
  "kernelspec": {
   "display_name": "Python 3",
   "language": "python",
   "name": "python3"
  },
  "language_info": {
   "codemirror_mode": {
    "name": "ipython",
    "version": 3
   },
   "file_extension": ".py",
   "mimetype": "text/x-python",
   "name": "python",
   "nbconvert_exporter": "python",
   "pygments_lexer": "ipython3",
   "version": "3.8.5"
  }
 },
 "nbformat": 4,
 "nbformat_minor": 4
}
