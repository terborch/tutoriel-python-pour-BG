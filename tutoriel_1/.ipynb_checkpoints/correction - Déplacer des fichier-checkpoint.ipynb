{
 "cells": [
  {
   "cell_type": "markdown",
   "metadata": {},
   "source": [
    "# Script to move or copy files from one folder to another\n",
    "nils ter-borch 8.06.2021\n",
    "\n",
    "_python 3 anaconda base - updated 05.2021_"
   ]
  },
  {
   "cell_type": "markdown",
   "metadata": {},
   "source": [
    "# 0. Getting started"
   ]
  },
  {
   "cell_type": "markdown",
   "metadata": {},
   "source": [
    "## 0.0 What we want to do\n",
    "1. Read the name of all the files in a folder\n",
    "2. Change the extension of the file names\n",
    "3. Copy or move some files from one folder to another  "
   ]
  },
  {
   "cell_type": "markdown",
   "metadata": {},
   "source": [
    "## 0.1 Some basic python knowledge"
   ]
  },
  {
   "cell_type": "code",
   "execution_count": 1,
   "metadata": {},
   "outputs": [],
   "source": [
    "# This is a comment, its blue and  marked by a #. It doesnt do anything, but helps you understand your code!"
   ]
  },
  {
   "cell_type": "code",
   "execution_count": 2,
   "metadata": {},
   "outputs": [
    {
     "data": {
      "text/plain": [
       "'This is written text, its called a string'"
      ]
     },
     "execution_count": 2,
     "metadata": {},
     "output_type": "execute_result"
    }
   ],
   "source": [
    "# String\n",
    "'This is written text, its called a string'"
   ]
  },
  {
   "cell_type": "code",
   "execution_count": 3,
   "metadata": {},
   "outputs": [],
   "source": [
    "# Variable\n",
    "a = 'some text'\n",
    "b = 42\n",
    "my_explicit_variable = b + 10"
   ]
  },
  {
   "cell_type": "code",
   "execution_count": 4,
   "metadata": {},
   "outputs": [
    {
     "data": {
      "text/plain": [
       "52"
      ]
     },
     "execution_count": 4,
     "metadata": {},
     "output_type": "execute_result"
    }
   ],
   "source": [
    "# In jupyter notebook this is how we display a variable\n",
    "my_explicit_variable"
   ]
  },
  {
   "cell_type": "code",
   "execution_count": 5,
   "metadata": {},
   "outputs": [
    {
     "data": {
      "text/plain": [
       "['some text', 42, 52]"
      ]
     },
     "execution_count": 5,
     "metadata": {},
     "output_type": "execute_result"
    }
   ],
   "source": [
    "# List\n",
    "my_list = [a, b, my_explicit_variable]\n",
    "my_list"
   ]
  },
  {
   "cell_type": "markdown",
   "metadata": {},
   "source": [
    "## 0.2 How to move files ?\n",
    "\n",
    "> Google \"move files python\"\n",
    "\n",
    "*You may use the following template to move a file in Python:*\n",
    "\n",
    "```python\n",
    "import shutil\n",
    "\n",
    "original = r'original path where the file is currently stored\\file name.file extension'\n",
    "target = r'target path where the file will be moved\\file name.file extension'\n",
    "\n",
    "shutil.move(original,target)\n",
    "```\n",
    "*Alternatively, you can use this template to move a directory:*\n",
    "```python\n",
    "import shutil\n",
    "\n",
    "original = r'original path where the directory is currently stored\\directory name'\n",
    "target = r'target path where the directory will be moved\\directory name'\n",
    "\n",
    "shutil.move(original,target)\n",
    "```\n",
    "\n",
    "**Source https://datatofish.com/move-file-python/**"
   ]
  },
  {
   "cell_type": "markdown",
   "metadata": {},
   "source": [
    "## 0.3 How to copy files ?\n",
    "\n",
    "> Google \"copy files python shutil\"\n",
    "\n",
    "`shutil.copy()` method in Python is used to copy the content of source file to destination file or directory. It also preserves the file’s permission mode but other metadata of the file like the file’s creation and modification times is not preserved.\n",
    "Source must represent a file but destination can be a file or a directory. If the destination is a directory then the file will be copied into destination using the base filename from source. Also, destination must be writable. If destination is a file and already exists then it will be replaced with the source file otherwise a new file will be created.\n",
    "\n",
    "**Source https://www.geeksforgeeks.org/python-shutil-copy-method/#:~:text=copy()%20method%20in%20Python,modification%20times%20is%20not%20preserved**"
   ]
  },
  {
   "cell_type": "markdown",
   "metadata": {},
   "source": [
    "## 0.4 How to get all file names ?\n",
    "\n",
    "> Google \"get all file names in a folder python\"\n",
    "\n",
    "*If you want just files, you could filter this down using os.path:*\n",
    "\n",
    "```python\n",
    "\n",
    "from os import listdir\n",
    "from os.path import isfile, join\n",
    "\n",
    "onlyfiles = [f for f in listdir(mypath) if isfile(join(mypath, f))]\n",
    "```\n",
    "\n",
    "**Source https://stackoverflow.com/questions/3207219/how-do-i-list-all-files-of-a-directory**"
   ]
  },
  {
   "cell_type": "markdown",
   "metadata": {},
   "source": [
    "## 0.5 Do i have these packages ?\n",
    "simply try importing them"
   ]
  },
  {
   "cell_type": "code",
   "execution_count": 6,
   "metadata": {},
   "outputs": [],
   "source": [
    "import os\n",
    "import shutil"
   ]
  },
  {
   "cell_type": "code",
   "execution_count": 7,
   "metadata": {},
   "outputs": [
    {
     "ename": "ModuleNotFoundError",
     "evalue": "No module named 'package_i_dont_have'",
     "output_type": "error",
     "traceback": [
      "\u001b[1;31m---------------------------------------------------------------------------\u001b[0m",
      "\u001b[1;31mModuleNotFoundError\u001b[0m                       Traceback (most recent call last)",
      "\u001b[1;32m<ipython-input-7-06a5dff12acb>\u001b[0m in \u001b[0;36m<module>\u001b[1;34m\u001b[0m\n\u001b[1;32m----> 1\u001b[1;33m \u001b[1;32mimport\u001b[0m \u001b[0mpackage_i_dont_have\u001b[0m\u001b[1;33m\u001b[0m\u001b[1;33m\u001b[0m\u001b[0m\n\u001b[0m",
      "\u001b[1;31mModuleNotFoundError\u001b[0m: No module named 'package_i_dont_have'"
     ]
    }
   ],
   "source": [
    "import package_i_dont_have"
   ]
  },
  {
   "cell_type": "markdown",
   "metadata": {},
   "source": [
    "## 0.6 In what directory am I now ?"
   ]
  },
  {
   "cell_type": "code",
   "execution_count": 8,
   "metadata": {},
   "outputs": [
    {
     "data": {
      "text/plain": [
       "'C:\\\\Users\\\\tech\\\\OneDrive - BG Ingénieurs Conseils\\\\Bureau\\\\Python\\\\tutoriel-python-pour-BG\\\\tutoriel_1'"
      ]
     },
     "execution_count": 8,
     "metadata": {},
     "output_type": "execute_result"
    }
   ],
   "source": [
    "os.getcwd()"
   ]
  },
  {
   "cell_type": "markdown",
   "metadata": {},
   "source": [
    "# 1. Read the name of all the files in a folder"
   ]
  },
  {
   "cell_type": "code",
   "execution_count": 9,
   "metadata": {},
   "outputs": [
    {
     "data": {
      "text/plain": [
       "'C:\\\\Users\\\\tech\\\\OneDrive - BG Ingénieurs Conseils\\\\Bureau\\\\Python\\\\tutoriel-python-pour-BG\\\\tutoriel_1'"
      ]
     },
     "execution_count": 9,
     "metadata": {},
     "output_type": "execute_result"
    }
   ],
   "source": [
    "# path to the current directory\n",
    "dir_path = os.getcwd()\n",
    "dir_path"
   ]
  },
  {
   "cell_type": "code",
   "execution_count": 10,
   "metadata": {},
   "outputs": [
    {
     "data": {
      "text/plain": [
       "'C:\\\\Users\\\\tech\\\\OneDrive - BG Ingénieurs Conseils\\\\Bureau\\\\Python\\\\tutoriel-python-pour-BG\\\\tutoriel_1\\\\Dossier jpg sélectionné'"
      ]
     },
     "execution_count": 10,
     "metadata": {},
     "output_type": "execute_result"
    }
   ],
   "source": [
    "# path to the folder of files that should be moved\n",
    "index_folder = dir_path + r'\\Dossier jpg sélectionné'\n",
    "index_folder"
   ]
  },
  {
   "cell_type": "code",
   "execution_count": 11,
   "metadata": {},
   "outputs": [
    {
     "data": {
      "text/plain": [
       "'C:\\\\Users\\\\tech\\\\OneDrive - BG Ingénieurs Conseils\\\\Bureau\\\\Python\\\\tutoriel-python-pour-BG\\\\tutoriel_1\\\\Dossier IR'"
      ]
     },
     "execution_count": 11,
     "metadata": {},
     "output_type": "execute_result"
    }
   ],
   "source": [
    "# path to the folder of indefiles that should be moved\n",
    "origin_folder = dir_path + r'\\Dossier IR'\n",
    "origin_folder"
   ]
  },
  {
   "cell_type": "code",
   "execution_count": 12,
   "metadata": {},
   "outputs": [
    {
     "data": {
      "text/plain": [
       "'C:\\\\Users\\\\tech\\\\OneDrive - BG Ingénieurs Conseils\\\\Bureau\\\\Python\\\\tutoriel-python-pour-BG\\\\tutoriel_1\\\\Dossier trillé'"
      ]
     },
     "execution_count": 12,
     "metadata": {},
     "output_type": "execute_result"
    }
   ],
   "source": [
    "# path to the folder of destination\n",
    "destination_folder = dir_path + r'\\Dossier trillé'\n",
    "destination_folder"
   ]
  },
  {
   "cell_type": "code",
   "execution_count": 13,
   "metadata": {},
   "outputs": [
    {
     "data": {
      "text/plain": [
       "['thermography_247.jpg',\n",
       " 'thermography_248.jpg',\n",
       " 'thermography_249.jpg',\n",
       " 'thermography_250.jpg',\n",
       " 'thermography_251.jpg',\n",
       " 'thermography_252.jpg',\n",
       " 'thermography_253.jpg',\n",
       " 'thermography_254.jpg',\n",
       " 'thermography_255.jpg',\n",
       " 'thermography_256.jpg',\n",
       " 'thermography_257.jpg',\n",
       " 'thermography_258.jpg',\n",
       " 'thermography_259.jpg',\n",
       " 'thermography_260.jpg',\n",
       " 'thermography_261.jpg',\n",
       " 'thermography_262.jpg',\n",
       " 'thermography_263.jpg',\n",
       " 'thermography_264.jpg',\n",
       " 'thermography_265.jpg',\n",
       " 'thermography_266.jpg',\n",
       " 'thermography_267.jpg',\n",
       " 'thermography_268.jpg',\n",
       " 'thermography_269.jpg',\n",
       " 'thermography_270.jpg',\n",
       " 'thermography_271.jpg']"
      ]
     },
     "execution_count": 13,
     "metadata": {},
     "output_type": "execute_result"
    }
   ],
   "source": [
    "# get all file names in a directory\n",
    "from os import listdir\n",
    "from os.path import isfile, join\n",
    "\n",
    "file_names = [f for f in listdir(index_folder) if isfile(join(index_folder, f))]\n",
    "file_names"
   ]
  },
  {
   "cell_type": "markdown",
   "metadata": {},
   "source": [
    "# 2. Change the extension of the file names\n",
    "\n",
    "> Google \"python change string\"\n",
    "\n",
    "\n",
    "```python\n",
    "a = \"Hello, World!\"\n",
    "print(a.replace(\"H\", \"J\"))\n",
    "```\n",
    "\n",
    "--> \"Jello, World!\"\n",
    "\n",
    "**https://www.w3schools.com/python/python_strings_modify.asp**"
   ]
  },
  {
   "cell_type": "code",
   "execution_count": 14,
   "metadata": {},
   "outputs": [
    {
     "data": {
      "text/plain": [
       "'thermography_247.jpg'"
      ]
     },
     "execution_count": 14,
     "metadata": {},
     "output_type": "execute_result"
    }
   ],
   "source": [
    "# display the first\n",
    "file_names[0]"
   ]
  },
  {
   "cell_type": "code",
   "execution_count": 15,
   "metadata": {},
   "outputs": [
    {
     "data": {
      "text/plain": [
       "'thermography_271.jpg'"
      ]
     },
     "execution_count": 15,
     "metadata": {},
     "output_type": "execute_result"
    }
   ],
   "source": [
    "# display the last \n",
    "file_names[-1]"
   ]
  },
  {
   "cell_type": "code",
   "execution_count": 16,
   "metadata": {},
   "outputs": [
    {
     "data": {
      "text/plain": [
       "['thermography_247.jpg',\n",
       " 'thermography_248.jpg',\n",
       " 'thermography_249.jpg',\n",
       " 'thermography_250.jpg',\n",
       " 'thermography_251.jpg']"
      ]
     },
     "execution_count": 16,
     "metadata": {},
     "output_type": "execute_result"
    }
   ],
   "source": [
    "# display the first 5\n",
    "file_names[:5]"
   ]
  },
  {
   "cell_type": "code",
   "execution_count": 17,
   "metadata": {},
   "outputs": [
    {
     "data": {
      "text/plain": [
       "'thermography_247.is2'"
      ]
     },
     "execution_count": 17,
     "metadata": {},
     "output_type": "execute_result"
    }
   ],
   "source": [
    "# replace the extension .jpg by .is2\n",
    "file_names[0].replace('.jpg', '.is2')"
   ]
  },
  {
   "cell_type": "markdown",
   "metadata": {},
   "source": [
    "# 3. Copy or move some files from one folder to another"
   ]
  },
  {
   "cell_type": "code",
   "execution_count": 18,
   "metadata": {},
   "outputs": [
    {
     "data": {
      "text/plain": [
       "'a and b is 42'"
      ]
     },
     "execution_count": 18,
     "metadata": {},
     "output_type": "execute_result"
    }
   ],
   "source": [
    "# combining strings\n",
    "a = 41\n",
    "b = 1\n",
    "'a and b is {}'.format(a + b)"
   ]
  },
  {
   "cell_type": "code",
   "execution_count": 19,
   "metadata": {},
   "outputs": [
    {
     "data": {
      "text/plain": [
       "'a and b is 42 which is the answer to life the universe and everything'"
      ]
     },
     "execution_count": 19,
     "metadata": {},
     "output_type": "execute_result"
    }
   ],
   "source": [
    "c = 'the answer to life the universe and everything'\n",
    "'a and b is {} which is {}'.format(a + b, c)"
   ]
  },
  {
   "cell_type": "code",
   "execution_count": 20,
   "metadata": {},
   "outputs": [
    {
     "data": {
      "text/plain": [
       "'C:\\\\Users\\\\tech\\\\OneDrive - BG Ingénieurs Conseils\\\\Bureau\\\\Python\\\\tutoriel-python-pour-BG\\\\tutoriel_1\\\\Dossier IR\\\\thermography_247.is2'"
      ]
     },
     "execution_count": 20,
     "metadata": {},
     "output_type": "execute_result"
    }
   ],
   "source": [
    "# path to the first file that should be moved\n",
    "f = file_names[0].replace('.jpg', '.is2')\n",
    "origin_path = r'{}\\{}'.format(origin_folder, f)\n",
    "origin_path"
   ]
  },
  {
   "cell_type": "code",
   "execution_count": 21,
   "metadata": {},
   "outputs": [
    {
     "data": {
      "text/plain": [
       "'C:\\\\Users\\\\tech\\\\OneDrive - BG Ingénieurs Conseils\\\\Bureau\\\\Python\\\\tutoriel-python-pour-BG\\\\tutoriel_1\\\\Dossier trillé\\\\thermography_247.is2'"
      ]
     },
     "execution_count": 21,
     "metadata": {},
     "output_type": "execute_result"
    }
   ],
   "source": [
    "# path to where we want to move the first file\n",
    "destination_path = r'{}\\{}'.format(destination_folder, f)\n",
    "destination_path"
   ]
  },
  {
   "cell_type": "code",
   "execution_count": 22,
   "metadata": {},
   "outputs": [
    {
     "data": {
      "text/plain": [
       "'C:\\\\Users\\\\tech\\\\OneDrive - BG Ingénieurs Conseils\\\\Bureau\\\\Python\\\\tutoriel-python-pour-BG\\\\tutoriel_1\\\\Dossier trillé\\\\thermography_247.is2'"
      ]
     },
     "execution_count": 22,
     "metadata": {},
     "output_type": "execute_result"
    }
   ],
   "source": [
    "# Copy the first file\n",
    "shutil.copy(origin_path, destination_path)"
   ]
  },
  {
   "cell_type": "code",
   "execution_count": 23,
   "metadata": {},
   "outputs": [
    {
     "name": "stdout",
     "output_type": "stream",
     "text": [
      "1\n",
      "2\n",
      "3\n"
     ]
    }
   ],
   "source": [
    "# A \"for loop\"\n",
    "for i in [1, 2, 3]:\n",
    "    print(i)"
   ]
  },
  {
   "cell_type": "code",
   "execution_count": 24,
   "metadata": {},
   "outputs": [
    {
     "data": {
      "text/plain": [
       "[1, 2, 3]"
      ]
     },
     "execution_count": 24,
     "metadata": {},
     "output_type": "execute_result"
    }
   ],
   "source": [
    "# A \"inline for loop\"\n",
    "my_list = [i for i in [1, 2, 3]]\n",
    "my_list"
   ]
  },
  {
   "cell_type": "code",
   "execution_count": 25,
   "metadata": {},
   "outputs": [
    {
     "name": "stdout",
     "output_type": "stream",
     "text": [
      "thermography_247.jpg\n",
      "thermography_248.jpg\n",
      "thermography_249.jpg\n",
      "thermography_250.jpg\n",
      "thermography_251.jpg\n"
     ]
    }
   ],
   "source": [
    "# Print the first 5 files in the list of files\n",
    "for i in file_names[:5]:\n",
    "    print(i)"
   ]
  },
  {
   "cell_type": "code",
   "execution_count": 26,
   "metadata": {},
   "outputs": [],
   "source": [
    "# Putting it all together\n",
    "# for every file name i in fil_names\n",
    "for i in file_names:\n",
    "    # 1. Select the i-th .jpg file name and rename the extension to .is2\n",
    "    f = i.replace('.jpg', '.is2')\n",
    "    \n",
    "    # 2. Make the full origin and destination paths with f \n",
    "    origin_path = r'{}\\{}'.format(origin_folder, f)\n",
    "    destination_path = r'{}\\{}'.format(destination_folder, f)\n",
    "    \n",
    "    # 3. Copy that file over\n",
    "    shutil.copy(origin_path, destination_path)"
   ]
  }
 ],
 "metadata": {
  "kernelspec": {
   "display_name": "Python 3",
   "language": "python",
   "name": "python3"
  },
  "language_info": {
   "codemirror_mode": {
    "name": "ipython",
    "version": 3
   },
   "file_extension": ".py",
   "mimetype": "text/x-python",
   "name": "python",
   "nbconvert_exporter": "python",
   "pygments_lexer": "ipython3",
   "version": "3.8.5"
  }
 },
 "nbformat": 4,
 "nbformat_minor": 4
}
