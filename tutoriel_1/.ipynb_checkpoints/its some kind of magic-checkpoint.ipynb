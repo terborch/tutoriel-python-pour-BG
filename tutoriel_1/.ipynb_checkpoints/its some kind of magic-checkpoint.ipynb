{
 "cells": [
  {
   "cell_type": "code",
   "execution_count": 4,
   "metadata": {},
   "outputs": [
    {
     "name": "stderr",
     "output_type": "stream",
     "text": [
      "C:\\Users\\tech\\Anaconda3\\envs\\ml2021\\lib\\site-packages\\torchaudio\\extension\\extension.py:13: UserWarning: torchaudio C++ extension is not available.\n",
      "  warnings.warn('torchaudio C++ extension is not available.')\n",
      "C:\\Users\\tech\\Anaconda3\\envs\\ml2021\\lib\\site-packages\\torchaudio\\backend\\utils.py:89: UserWarning: No audio backend is available.\n",
      "  warnings.warn('No audio backend is available.')\n"
     ]
    }
   ],
   "source": [
    "# package for machine learning, requiers pytorch\n",
    "from transformers import pipeline"
   ]
  },
  {
   "cell_type": "code",
   "execution_count": 5,
   "metadata": {},
   "outputs": [
    {
     "data": {
      "application/vnd.jupyter.widget-view+json": {
       "model_id": "f95ddd930d16487b8c7e3a6d0d0aafa0",
       "version_major": 2,
       "version_minor": 0
      },
      "text/plain": [
       "HBox(children=(HTML(value='Downloading'), FloatProgress(value=0.0, max=1649.0), HTML(value='')))"
      ]
     },
     "metadata": {},
     "output_type": "display_data"
    },
    {
     "name": "stdout",
     "output_type": "stream",
     "text": [
      "\n"
     ]
    },
    {
     "data": {
      "application/vnd.jupyter.widget-view+json": {
       "model_id": "735275f6ac274721afb93c42d5569929",
       "version_major": 2,
       "version_minor": 0
      },
      "text/plain": [
       "HBox(children=(HTML(value='Downloading'), FloatProgress(value=0.0, max=1222317369.0), HTML(value='')))"
      ]
     },
     "metadata": {},
     "output_type": "display_data"
    },
    {
     "name": "stdout",
     "output_type": "stream",
     "text": [
      "\n"
     ]
    },
    {
     "data": {
      "application/vnd.jupyter.widget-view+json": {
       "model_id": "a00fbd88472f4e49aa56f824147ce358",
       "version_major": 2,
       "version_minor": 0
      },
      "text/plain": [
       "HBox(children=(HTML(value='Downloading'), FloatProgress(value=0.0, max=898822.0), HTML(value='')))"
      ]
     },
     "metadata": {},
     "output_type": "display_data"
    },
    {
     "name": "stdout",
     "output_type": "stream",
     "text": [
      "\n"
     ]
    },
    {
     "data": {
      "application/vnd.jupyter.widget-view+json": {
       "model_id": "0a26f62fce864b04859ad3f2d63d1e43",
       "version_major": 2,
       "version_minor": 0
      },
      "text/plain": [
       "HBox(children=(HTML(value='Downloading'), FloatProgress(value=0.0, max=456318.0), HTML(value='')))"
      ]
     },
     "metadata": {},
     "output_type": "display_data"
    },
    {
     "name": "stdout",
     "output_type": "stream",
     "text": [
      "\n"
     ]
    },
    {
     "data": {
      "application/vnd.jupyter.widget-view+json": {
       "model_id": "a3b7eb385f05468ba2f81865aadecd24",
       "version_major": 2,
       "version_minor": 0
      },
      "text/plain": [
       "HBox(children=(HTML(value='Downloading'), FloatProgress(value=0.0, max=26.0), HTML(value='')))"
      ]
     },
     "metadata": {},
     "output_type": "display_data"
    },
    {
     "name": "stdout",
     "output_type": "stream",
     "text": [
      "\n"
     ]
    }
   ],
   "source": [
    "summarizer = pipeline('summarization')"
   ]
  },
  {
   "cell_type": "code",
   "execution_count": 7,
   "metadata": {},
   "outputs": [],
   "source": [
    "text =\"\"\"\n",
    "Alan Mathison Turing OBE FRS (/ˈtjʊərɪŋ/; 23 June 1912 – 7 June 1954) was an English mathematician, computer scientist, \n",
    "logician, cryptanalyst, philosopher, and theoretical biologist.[6][7] Turing was highly influential in the development of \n",
    "theoretical computer science, providing a formalisation of the concepts of algorithm and computation with the Turing \n",
    "machine, which can be considered a model of a general-purpose computer.[8][9][10] Turing is widely considered to be the \n",
    "father of theoretical computer science and artificial intelligence.[11]\n",
    "\n",
    "Born in Maida Vale, London, Turing was raised in southern England. He graduated at King's College, Cambridge with a degree \n",
    "in mathematics. Whilst he was a fellow at Cambridge, he published a proof demonstrating that some purely mathematical \n",
    "yes–no questions can never be answered by computation and defined a Turing machine, and went on to prove the halting \n",
    "problem for Turing machines is undecidable. In 1938, he obtained his PhD from the Department of Mathematics at Princeton \n",
    "University. During the Second World War, Turing worked for the Government Code and Cypher School (GC&CS) at Bletchley Park, \n",
    "Britain's codebreaking centre that produced Ultra intelligence. For a time he led Hut 8, the section that was responsible \n",
    "for German naval cryptanalysis. Here, he devised a number of techniques for speeding the breaking of German ciphers, \n",
    "including improvements to the pre-war Polish bombe method, an electromechanical machine that could find settings for the \n",
    "Enigma machine. Turing played a crucial role in cracking intercepted coded messages that enabled the Allies to defeat the \n",
    "Nazis in many crucial engagements, including the Battle of the Atlantic.[12][13] Due to the problems of counterfactual \n",
    "history, it is hard to estimate the precise effect Ultra intelligence had on the war.[14] However, Professor Jack Copeland \n",
    "has estimated that this work shortened the war in Europe by more than two years and saved over 14 million lives.[12]\n",
    "\n",
    "After the war, Turing worked at the National Physical Laboratory, where he designed the Automatic Computing Engine (ACE), \n",
    "one of the first designs for a stored-program computer. In 1948, Turing joined Max Newman's Computing Machine Laboratory, \n",
    "at the Victoria University of Manchester, where he helped develop the Manchester computers[15] and became interested in \n",
    "mathematical biology. He wrote a paper on the chemical basis of morphogenesis[1] and predicted oscillating chemical \n",
    "reactions such as the Belousov–Zhabotinsky reaction, first observed in the 1960s. Despite these accomplishments, \n",
    "he was never fully recognised in his home country during his lifetime because much of his work was covered by the Official \n",
    "Secrets Act.\n",
    "\n",
    "Turing was prosecuted in 1952 for homosexual acts; the Labouchere Amendment of 1885 had mandated that \"gross indecency\" was \n",
    "a criminal offence in the UK. He accepted chemical castration treatment, with DES, as an alternative to prison. Turing died \n",
    "in 1954, 16 days before his 42nd birthday, from cyanide poisoning. An inquest determined his death as a suicide, but it has \n",
    "been noted that the known evidence is also consistent with accidental poisoning.\n",
    "\n",
    "In 2009, following an Internet campaign, British Prime Minister Gordon Brown made an official public apology on behalf of \n",
    "the British government for \"the appalling way he was treated\". Queen Elizabeth II granted Turing a posthumous pardon in \n",
    "2013. The \"Alan Turing law\" is now an informal term for a 2017 law in the United Kingdom that retroactively pardoned men \n",
    "cautioned or convicted under historical legislation that outlawed homosexual acts.[16] Turing has an extensive legacy with \n",
    "statues of him, many things named after him including an annual award for computer science innovations. He is due to appear \n",
    "on the Bank of England £50 note, to be released in June 2021. A 2019 BBC series, as voted by the audience, named him the \n",
    "greatest person of the 20th century.\n",
    "\"\"\""
   ]
  },
  {
   "cell_type": "code",
   "execution_count": 11,
   "metadata": {},
   "outputs": [
    {
     "data": {
      "text/plain": [
       "' Alan Mathison Turing OBE FRS was an English mathematician, computer scientist, cryptanalyst, philosopher, and theoretical biologist . During the Second World War, Turing worked for the Government Code and Cypher School (GC&CS) at Bletchley Park, \\xa0Britain\\'s codebreaking centre that produced Ultra intelligence . He led Hut 8, the section responsible for breaking German naval cryptanalysis . Turing was prosecuted in 1952 for homosexual acts; the Labouchere Amendment of 1885 had mandated that \"gross indecency\" was a criminal offence in the UK . Queen Elizabeth II granted Turing a posthumous pardon in 2013 .'"
      ]
     },
     "execution_count": 11,
     "metadata": {},
     "output_type": "execute_result"
    }
   ],
   "source": [
    "summary = summarizer(text, max_length=150, min_length=50, do_sample=False)\n",
    "summary[0]['summary_text']"
   ]
  }
 ],
 "metadata": {
  "kernelspec": {
   "display_name": "Python 3",
   "language": "python",
   "name": "python3"
  },
  "language_info": {
   "codemirror_mode": {
    "name": "ipython",
    "version": 3
   },
   "file_extension": ".py",
   "mimetype": "text/x-python",
   "name": "python",
   "nbconvert_exporter": "python",
   "pygments_lexer": "ipython3",
   "version": "3.8.5"
  }
 },
 "nbformat": 4,
 "nbformat_minor": 4
}
